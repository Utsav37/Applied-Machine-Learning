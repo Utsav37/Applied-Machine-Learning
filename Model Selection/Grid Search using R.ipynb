{
 "cells": [
  {
   "cell_type": "markdown",
   "metadata": {},
   "source": [
    "# Grid Search "
   ]
  },
  {
   "cell_type": "markdown",
   "metadata": {},
   "source": [
    "Importing the dataset"
   ]
  },
  {
   "cell_type": "code",
   "execution_count": 1,
   "metadata": {},
   "outputs": [
    {
     "data": {
      "text/html": [
       "<table>\n",
       "<thead><tr><th scope=col>Age</th><th scope=col>EstimatedSalary</th><th scope=col>Purchased</th></tr></thead>\n",
       "<tbody>\n",
       "\t<tr><td>19   </td><td>19000</td><td>0    </td></tr>\n",
       "\t<tr><td>35   </td><td>20000</td><td>0    </td></tr>\n",
       "\t<tr><td>26   </td><td>43000</td><td>0    </td></tr>\n",
       "\t<tr><td>27   </td><td>57000</td><td>0    </td></tr>\n",
       "\t<tr><td>19   </td><td>76000</td><td>0    </td></tr>\n",
       "\t<tr><td>27   </td><td>58000</td><td>0    </td></tr>\n",
       "</tbody>\n",
       "</table>\n"
      ],
      "text/latex": [
       "\\begin{tabular}{r|lll}\n",
       " Age & EstimatedSalary & Purchased\\\\\n",
       "\\hline\n",
       "\t 19    & 19000 & 0    \\\\\n",
       "\t 35    & 20000 & 0    \\\\\n",
       "\t 26    & 43000 & 0    \\\\\n",
       "\t 27    & 57000 & 0    \\\\\n",
       "\t 19    & 76000 & 0    \\\\\n",
       "\t 27    & 58000 & 0    \\\\\n",
       "\\end{tabular}\n"
      ],
      "text/markdown": [
       "\n",
       "Age | EstimatedSalary | Purchased | \n",
       "|---|---|---|---|---|---|\n",
       "| 19    | 19000 | 0     | \n",
       "| 35    | 20000 | 0     | \n",
       "| 26    | 43000 | 0     | \n",
       "| 27    | 57000 | 0     | \n",
       "| 19    | 76000 | 0     | \n",
       "| 27    | 58000 | 0     | \n",
       "\n",
       "\n"
      ],
      "text/plain": [
       "  Age EstimatedSalary Purchased\n",
       "1 19  19000           0        \n",
       "2 35  20000           0        \n",
       "3 26  43000           0        \n",
       "4 27  57000           0        \n",
       "5 19  76000           0        \n",
       "6 27  58000           0        "
      ]
     },
     "metadata": {},
     "output_type": "display_data"
    }
   ],
   "source": [
    "dataset = read.csv('Social_Network_Ads.csv')\n",
    "dataset = dataset[, 3:5]\n",
    "head(dataset)"
   ]
  },
  {
   "cell_type": "markdown",
   "metadata": {},
   "source": [
    "Encoding the target feature as factor"
   ]
  },
  {
   "cell_type": "code",
   "execution_count": 2,
   "metadata": {
    "collapsed": true
   },
   "outputs": [],
   "source": [
    "dataset$Purchased = factor(dataset$Purchased, levels = c(0, 1))"
   ]
  },
  {
   "cell_type": "markdown",
   "metadata": {},
   "source": [
    "Splitting the dataset into the Training set and Test set"
   ]
  },
  {
   "cell_type": "code",
   "execution_count": 3,
   "metadata": {},
   "outputs": [
    {
     "name": "stderr",
     "output_type": "stream",
     "text": [
      "Warning message:\n",
      "\"package 'caTools' was built under R version 3.4.3\""
     ]
    }
   ],
   "source": [
    "library(caTools)\n",
    "set.seed(123)\n",
    "split = sample.split(dataset$Purchased, SplitRatio = 0.75)\n",
    "training_set = subset(dataset, split == TRUE)\n",
    "test_set = subset(dataset, split == FALSE)"
   ]
  },
  {
   "cell_type": "markdown",
   "metadata": {},
   "source": [
    "Feature Scaling"
   ]
  },
  {
   "cell_type": "code",
   "execution_count": 4,
   "metadata": {
    "collapsed": true
   },
   "outputs": [],
   "source": [
    "training_set[-3] = scale(training_set[-3])\n",
    "test_set[-3] = scale(test_set[-3])"
   ]
  },
  {
   "cell_type": "markdown",
   "metadata": {},
   "source": [
    "Fitting Kernel SVM to the Training set"
   ]
  },
  {
   "cell_type": "code",
   "execution_count": 5,
   "metadata": {},
   "outputs": [
    {
     "name": "stderr",
     "output_type": "stream",
     "text": [
      "Warning message:\n",
      "\"package 'e1071' was built under R version 3.4.3\""
     ]
    }
   ],
   "source": [
    "library(e1071)\n",
    "classifier = svm(formula = Purchased ~ .,\n",
    "                 data = training_set,\n",
    "                 type = 'C-classification',\n",
    "                 kernel = 'radial')"
   ]
  },
  {
   "cell_type": "markdown",
   "metadata": {},
   "source": [
    "Predicting the Test set results"
   ]
  },
  {
   "cell_type": "code",
   "execution_count": 6,
   "metadata": {},
   "outputs": [
    {
     "data": {
      "text/html": [
       "<dl class=dl-horizontal>\n",
       "\t<dt>2</dt>\n",
       "\t\t<dd>0</dd>\n",
       "\t<dt>4</dt>\n",
       "\t\t<dd>0</dd>\n",
       "\t<dt>5</dt>\n",
       "\t\t<dd>0</dd>\n",
       "\t<dt>9</dt>\n",
       "\t\t<dd>0</dd>\n",
       "\t<dt>12</dt>\n",
       "\t\t<dd>0</dd>\n",
       "\t<dt>18</dt>\n",
       "\t\t<dd>1</dd>\n",
       "\t<dt>19</dt>\n",
       "\t\t<dd>1</dd>\n",
       "\t<dt>20</dt>\n",
       "\t\t<dd>1</dd>\n",
       "\t<dt>22</dt>\n",
       "\t\t<dd>0</dd>\n",
       "\t<dt>29</dt>\n",
       "\t\t<dd>0</dd>\n",
       "\t<dt>32</dt>\n",
       "\t\t<dd>1</dd>\n",
       "\t<dt>34</dt>\n",
       "\t\t<dd>0</dd>\n",
       "\t<dt>35</dt>\n",
       "\t\t<dd>0</dd>\n",
       "\t<dt>38</dt>\n",
       "\t\t<dd>0</dd>\n",
       "\t<dt>45</dt>\n",
       "\t\t<dd>0</dd>\n",
       "\t<dt>46</dt>\n",
       "\t\t<dd>0</dd>\n",
       "\t<dt>48</dt>\n",
       "\t\t<dd>0</dd>\n",
       "\t<dt>52</dt>\n",
       "\t\t<dd>0</dd>\n",
       "\t<dt>66</dt>\n",
       "\t\t<dd>0</dd>\n",
       "\t<dt>69</dt>\n",
       "\t\t<dd>0</dd>\n",
       "\t<dt>74</dt>\n",
       "\t\t<dd>1</dd>\n",
       "\t<dt>75</dt>\n",
       "\t\t<dd>0</dd>\n",
       "\t<dt>82</dt>\n",
       "\t\t<dd>0</dd>\n",
       "\t<dt>84</dt>\n",
       "\t\t<dd>0</dd>\n",
       "\t<dt>85</dt>\n",
       "\t\t<dd>0</dd>\n",
       "\t<dt>86</dt>\n",
       "\t\t<dd>1</dd>\n",
       "\t<dt>87</dt>\n",
       "\t\t<dd>0</dd>\n",
       "\t<dt>89</dt>\n",
       "\t\t<dd>0</dd>\n",
       "\t<dt>103</dt>\n",
       "\t\t<dd>0</dd>\n",
       "\t<dt>104</dt>\n",
       "\t\t<dd>1</dd>\n",
       "\t<dt>107</dt>\n",
       "\t\t<dd>0</dd>\n",
       "\t<dt>108</dt>\n",
       "\t\t<dd>0</dd>\n",
       "\t<dt>109</dt>\n",
       "\t\t<dd>0</dd>\n",
       "\t<dt>117</dt>\n",
       "\t\t<dd>0</dd>\n",
       "\t<dt>124</dt>\n",
       "\t\t<dd>0</dd>\n",
       "\t<dt>126</dt>\n",
       "\t\t<dd>0</dd>\n",
       "\t<dt>127</dt>\n",
       "\t\t<dd>0</dd>\n",
       "\t<dt>131</dt>\n",
       "\t\t<dd>0</dd>\n",
       "\t<dt>134</dt>\n",
       "\t\t<dd>0</dd>\n",
       "\t<dt>139</dt>\n",
       "\t\t<dd>0</dd>\n",
       "\t<dt>148</dt>\n",
       "\t\t<dd>0</dd>\n",
       "\t<dt>154</dt>\n",
       "\t\t<dd>0</dd>\n",
       "\t<dt>156</dt>\n",
       "\t\t<dd>0</dd>\n",
       "\t<dt>159</dt>\n",
       "\t\t<dd>0</dd>\n",
       "\t<dt>162</dt>\n",
       "\t\t<dd>0</dd>\n",
       "\t<dt>163</dt>\n",
       "\t\t<dd>0</dd>\n",
       "\t<dt>170</dt>\n",
       "\t\t<dd>0</dd>\n",
       "\t<dt>175</dt>\n",
       "\t\t<dd>0</dd>\n",
       "\t<dt>176</dt>\n",
       "\t\t<dd>0</dd>\n",
       "\t<dt>193</dt>\n",
       "\t\t<dd>0</dd>\n",
       "\t<dt>199</dt>\n",
       "\t\t<dd>0</dd>\n",
       "\t<dt>200</dt>\n",
       "\t\t<dd>0</dd>\n",
       "\t<dt>208</dt>\n",
       "\t\t<dd>1</dd>\n",
       "\t<dt>213</dt>\n",
       "\t\t<dd>1</dd>\n",
       "\t<dt>224</dt>\n",
       "\t\t<dd>1</dd>\n",
       "\t<dt>226</dt>\n",
       "\t\t<dd>0</dd>\n",
       "\t<dt>228</dt>\n",
       "\t\t<dd>1</dd>\n",
       "\t<dt>229</dt>\n",
       "\t\t<dd>0</dd>\n",
       "\t<dt>230</dt>\n",
       "\t\t<dd>0</dd>\n",
       "\t<dt>234</dt>\n",
       "\t\t<dd>1</dd>\n",
       "\t<dt>236</dt>\n",
       "\t\t<dd>1</dd>\n",
       "\t<dt>237</dt>\n",
       "\t\t<dd>0</dd>\n",
       "\t<dt>239</dt>\n",
       "\t\t<dd>1</dd>\n",
       "\t<dt>241</dt>\n",
       "\t\t<dd>1</dd>\n",
       "\t<dt>255</dt>\n",
       "\t\t<dd>1</dd>\n",
       "\t<dt>264</dt>\n",
       "\t\t<dd>0</dd>\n",
       "\t<dt>265</dt>\n",
       "\t\t<dd>1</dd>\n",
       "\t<dt>266</dt>\n",
       "\t\t<dd>1</dd>\n",
       "\t<dt>273</dt>\n",
       "\t\t<dd>1</dd>\n",
       "\t<dt>274</dt>\n",
       "\t\t<dd>1</dd>\n",
       "\t<dt>281</dt>\n",
       "\t\t<dd>1</dd>\n",
       "\t<dt>286</dt>\n",
       "\t\t<dd>1</dd>\n",
       "\t<dt>292</dt>\n",
       "\t\t<dd>1</dd>\n",
       "\t<dt>299</dt>\n",
       "\t\t<dd>0</dd>\n",
       "\t<dt>302</dt>\n",
       "\t\t<dd>1</dd>\n",
       "\t<dt>305</dt>\n",
       "\t\t<dd>0</dd>\n",
       "\t<dt>307</dt>\n",
       "\t\t<dd>1</dd>\n",
       "\t<dt>310</dt>\n",
       "\t\t<dd>0</dd>\n",
       "\t<dt>316</dt>\n",
       "\t\t<dd>0</dd>\n",
       "\t<dt>324</dt>\n",
       "\t\t<dd>1</dd>\n",
       "\t<dt>326</dt>\n",
       "\t\t<dd>0</dd>\n",
       "\t<dt>332</dt>\n",
       "\t\t<dd>1</dd>\n",
       "\t<dt>339</dt>\n",
       "\t\t<dd>0</dd>\n",
       "\t<dt>341</dt>\n",
       "\t\t<dd>1</dd>\n",
       "\t<dt>343</dt>\n",
       "\t\t<dd>0</dd>\n",
       "\t<dt>347</dt>\n",
       "\t\t<dd>1</dd>\n",
       "\t<dt>353</dt>\n",
       "\t\t<dd>1</dd>\n",
       "\t<dt>363</dt>\n",
       "\t\t<dd>0</dd>\n",
       "\t<dt>364</dt>\n",
       "\t\t<dd>0</dd>\n",
       "\t<dt>367</dt>\n",
       "\t\t<dd>1</dd>\n",
       "\t<dt>368</dt>\n",
       "\t\t<dd>1</dd>\n",
       "\t<dt>369</dt>\n",
       "\t\t<dd>0</dd>\n",
       "\t<dt>372</dt>\n",
       "\t\t<dd>1</dd>\n",
       "\t<dt>373</dt>\n",
       "\t\t<dd>0</dd>\n",
       "\t<dt>380</dt>\n",
       "\t\t<dd>1</dd>\n",
       "\t<dt>383</dt>\n",
       "\t\t<dd>1</dd>\n",
       "\t<dt>389</dt>\n",
       "\t\t<dd>1</dd>\n",
       "\t<dt>392</dt>\n",
       "\t\t<dd>1</dd>\n",
       "\t<dt>395</dt>\n",
       "\t\t<dd>0</dd>\n",
       "\t<dt>400</dt>\n",
       "\t\t<dd>1</dd>\n",
       "</dl>\n"
      ],
      "text/latex": [
       "\\begin{description*}\n",
       "\\item[2] 0\n",
       "\\item[4] 0\n",
       "\\item[5] 0\n",
       "\\item[9] 0\n",
       "\\item[12] 0\n",
       "\\item[18] 1\n",
       "\\item[19] 1\n",
       "\\item[20] 1\n",
       "\\item[22] 0\n",
       "\\item[29] 0\n",
       "\\item[32] 1\n",
       "\\item[34] 0\n",
       "\\item[35] 0\n",
       "\\item[38] 0\n",
       "\\item[45] 0\n",
       "\\item[46] 0\n",
       "\\item[48] 0\n",
       "\\item[52] 0\n",
       "\\item[66] 0\n",
       "\\item[69] 0\n",
       "\\item[74] 1\n",
       "\\item[75] 0\n",
       "\\item[82] 0\n",
       "\\item[84] 0\n",
       "\\item[85] 0\n",
       "\\item[86] 1\n",
       "\\item[87] 0\n",
       "\\item[89] 0\n",
       "\\item[103] 0\n",
       "\\item[104] 1\n",
       "\\item[107] 0\n",
       "\\item[108] 0\n",
       "\\item[109] 0\n",
       "\\item[117] 0\n",
       "\\item[124] 0\n",
       "\\item[126] 0\n",
       "\\item[127] 0\n",
       "\\item[131] 0\n",
       "\\item[134] 0\n",
       "\\item[139] 0\n",
       "\\item[148] 0\n",
       "\\item[154] 0\n",
       "\\item[156] 0\n",
       "\\item[159] 0\n",
       "\\item[162] 0\n",
       "\\item[163] 0\n",
       "\\item[170] 0\n",
       "\\item[175] 0\n",
       "\\item[176] 0\n",
       "\\item[193] 0\n",
       "\\item[199] 0\n",
       "\\item[200] 0\n",
       "\\item[208] 1\n",
       "\\item[213] 1\n",
       "\\item[224] 1\n",
       "\\item[226] 0\n",
       "\\item[228] 1\n",
       "\\item[229] 0\n",
       "\\item[230] 0\n",
       "\\item[234] 1\n",
       "\\item[236] 1\n",
       "\\item[237] 0\n",
       "\\item[239] 1\n",
       "\\item[241] 1\n",
       "\\item[255] 1\n",
       "\\item[264] 0\n",
       "\\item[265] 1\n",
       "\\item[266] 1\n",
       "\\item[273] 1\n",
       "\\item[274] 1\n",
       "\\item[281] 1\n",
       "\\item[286] 1\n",
       "\\item[292] 1\n",
       "\\item[299] 0\n",
       "\\item[302] 1\n",
       "\\item[305] 0\n",
       "\\item[307] 1\n",
       "\\item[310] 0\n",
       "\\item[316] 0\n",
       "\\item[324] 1\n",
       "\\item[326] 0\n",
       "\\item[332] 1\n",
       "\\item[339] 0\n",
       "\\item[341] 1\n",
       "\\item[343] 0\n",
       "\\item[347] 1\n",
       "\\item[353] 1\n",
       "\\item[363] 0\n",
       "\\item[364] 0\n",
       "\\item[367] 1\n",
       "\\item[368] 1\n",
       "\\item[369] 0\n",
       "\\item[372] 1\n",
       "\\item[373] 0\n",
       "\\item[380] 1\n",
       "\\item[383] 1\n",
       "\\item[389] 1\n",
       "\\item[392] 1\n",
       "\\item[395] 0\n",
       "\\item[400] 1\n",
       "\\end{description*}\n"
      ],
      "text/markdown": [
       "2\n",
       ":   04\n",
       ":   05\n",
       ":   09\n",
       ":   012\n",
       ":   018\n",
       ":   119\n",
       ":   120\n",
       ":   122\n",
       ":   029\n",
       ":   032\n",
       ":   134\n",
       ":   035\n",
       ":   038\n",
       ":   045\n",
       ":   046\n",
       ":   048\n",
       ":   052\n",
       ":   066\n",
       ":   069\n",
       ":   074\n",
       ":   175\n",
       ":   082\n",
       ":   084\n",
       ":   085\n",
       ":   086\n",
       ":   187\n",
       ":   089\n",
       ":   0103\n",
       ":   0104\n",
       ":   1107\n",
       ":   0108\n",
       ":   0109\n",
       ":   0117\n",
       ":   0124\n",
       ":   0126\n",
       ":   0127\n",
       ":   0131\n",
       ":   0134\n",
       ":   0139\n",
       ":   0148\n",
       ":   0154\n",
       ":   0156\n",
       ":   0159\n",
       ":   0162\n",
       ":   0163\n",
       ":   0170\n",
       ":   0175\n",
       ":   0176\n",
       ":   0193\n",
       ":   0199\n",
       ":   0200\n",
       ":   0208\n",
       ":   1213\n",
       ":   1224\n",
       ":   1226\n",
       ":   0228\n",
       ":   1229\n",
       ":   0230\n",
       ":   0234\n",
       ":   1236\n",
       ":   1237\n",
       ":   0239\n",
       ":   1241\n",
       ":   1255\n",
       ":   1264\n",
       ":   0265\n",
       ":   1266\n",
       ":   1273\n",
       ":   1274\n",
       ":   1281\n",
       ":   1286\n",
       ":   1292\n",
       ":   1299\n",
       ":   0302\n",
       ":   1305\n",
       ":   0307\n",
       ":   1310\n",
       ":   0316\n",
       ":   0324\n",
       ":   1326\n",
       ":   0332\n",
       ":   1339\n",
       ":   0341\n",
       ":   1343\n",
       ":   0347\n",
       ":   1353\n",
       ":   1363\n",
       ":   0364\n",
       ":   0367\n",
       ":   1368\n",
       ":   1369\n",
       ":   0372\n",
       ":   1373\n",
       ":   0380\n",
       ":   1383\n",
       ":   1389\n",
       ":   1392\n",
       ":   1395\n",
       ":   0400\n",
       ":   1\n",
       "\n"
      ],
      "text/plain": [
       "  2   4   5   9  12  18  19  20  22  29  32  34  35  38  45  46  48  52  66  69 \n",
       "  0   0   0   0   0   1   1   1   0   0   1   0   0   0   0   0   0   0   0   0 \n",
       " 74  75  82  84  85  86  87  89 103 104 107 108 109 117 124 126 127 131 134 139 \n",
       "  1   0   0   0   0   1   0   0   0   1   0   0   0   0   0   0   0   0   0   0 \n",
       "148 154 156 159 162 163 170 175 176 193 199 200 208 213 224 226 228 229 230 234 \n",
       "  0   0   0   0   0   0   0   0   0   0   0   0   1   1   1   0   1   0   0   1 \n",
       "236 237 239 241 255 264 265 266 273 274 281 286 292 299 302 305 307 310 316 324 \n",
       "  1   0   1   1   1   0   1   1   1   1   1   1   1   0   1   0   1   0   0   1 \n",
       "326 332 339 341 343 347 353 363 364 367 368 369 372 373 380 383 389 392 395 400 \n",
       "  0   1   0   1   0   1   1   0   0   1   1   0   1   0   1   1   1   1   0   1 \n",
       "Levels: 0 1"
      ]
     },
     "metadata": {},
     "output_type": "display_data"
    }
   ],
   "source": [
    "y_pred = predict(classifier, newdata = test_set[-3])\n",
    "y_pred"
   ]
  },
  {
   "cell_type": "markdown",
   "metadata": {},
   "source": [
    "Making the Confusion Matrix"
   ]
  },
  {
   "cell_type": "code",
   "execution_count": 7,
   "metadata": {},
   "outputs": [
    {
     "data": {
      "text/plain": [
       "   y_pred\n",
       "     0  1\n",
       "  0 58  6\n",
       "  1  4 32"
      ]
     },
     "metadata": {},
     "output_type": "display_data"
    }
   ],
   "source": [
    "cm = table(test_set[, 3], y_pred)\n",
    "cm"
   ]
  },
  {
   "cell_type": "markdown",
   "metadata": {},
   "source": [
    "Applying k-Fold Cross Validation"
   ]
  },
  {
   "cell_type": "code",
   "execution_count": 8,
   "metadata": {},
   "outputs": [
    {
     "name": "stderr",
     "output_type": "stream",
     "text": [
      "Loading required package: lattice\n",
      "Loading required package: ggplot2\n",
      "Warning message:\n",
      "\"package 'ggplot2' was built under R version 3.4.3\""
     ]
    },
    {
     "data": {
      "text/html": [
       "0.910530218761587"
      ],
      "text/latex": [
       "0.910530218761587"
      ],
      "text/markdown": [
       "0.910530218761587"
      ],
      "text/plain": [
       "[1] 0.9105302"
      ]
     },
     "metadata": {},
     "output_type": "display_data"
    }
   ],
   "source": [
    "library(caret)\n",
    "folds = createFolds(training_set$Purchased, k = 10)\n",
    "cv = lapply(folds, function(x) {\n",
    "  training_fold = training_set[-x, ]\n",
    "  test_fold = training_set[x, ]\n",
    "  classifier = svm(formula = Purchased ~ .,\n",
    "                   data = training_fold,\n",
    "                   type = 'C-classification',\n",
    "                   kernel = 'radial')\n",
    "  y_pred = predict(classifier, newdata = test_fold[-3])\n",
    "  cm = table(test_fold[, 3], y_pred)\n",
    "  accuracy = (cm[1,1] + cm[2,2]) / (cm[1,1] + cm[2,2] + cm[1,2] + cm[2,1])\n",
    "  return(accuracy)\n",
    "})\n",
    "accuracy = mean(as.numeric(cv))\n",
    "\n",
    "accuracy"
   ]
  },
  {
   "cell_type": "markdown",
   "metadata": {},
   "source": [
    "We got an average accuracy of 91% with 10 different cross validation sets"
   ]
  },
  {
   "cell_type": "markdown",
   "metadata": {},
   "source": [
    "Applying Grid Search to find the best parameters"
   ]
  },
  {
   "cell_type": "code",
   "execution_count": 9,
   "metadata": {},
   "outputs": [
    {
     "name": "stderr",
     "output_type": "stream",
     "text": [
      "\n",
      "Attaching package: 'kernlab'\n",
      "\n",
      "The following object is masked from 'package:ggplot2':\n",
      "\n",
      "    alpha\n",
      "\n"
     ]
    },
    {
     "data": {
      "text/plain": [
       "Support Vector Machines with Radial Basis Function Kernel \n",
       "\n",
       "300 samples\n",
       "  2 predictor\n",
       "  2 classes: '0', '1' \n",
       "\n",
       "No pre-processing\n",
       "Resampling: Bootstrapped (25 reps) \n",
       "Summary of sample sizes: 300, 300, 300, 300, 300, 300, ... \n",
       "Resampling results across tuning parameters:\n",
       "\n",
       "  C     Accuracy   Kappa    \n",
       "  0.25  0.9148058  0.8172672\n",
       "  0.50  0.9166393  0.8211613\n",
       "  1.00  0.9172711  0.8224596\n",
       "\n",
       "Tuning parameter 'sigma' was held constant at a value of 2.251496\n",
       "Accuracy was used to select the optimal model using  the largest value.\n",
       "The final values used for the model were sigma = 2.251496 and C = 1."
      ]
     },
     "metadata": {},
     "output_type": "display_data"
    }
   ],
   "source": [
    "classifier = train(form = Purchased ~ ., data = training_set, method = 'svmRadial')\n",
    "classifier\n"
   ]
  },
  {
   "cell_type": "code",
   "execution_count": 10,
   "metadata": {},
   "outputs": [
    {
     "data": {
      "text/html": [
       "<table>\n",
       "<thead><tr><th></th><th scope=col>sigma</th><th scope=col>C</th></tr></thead>\n",
       "<tbody>\n",
       "\t<tr><th scope=row>3</th><td>2.251496</td><td>1       </td></tr>\n",
       "</tbody>\n",
       "</table>\n"
      ],
      "text/latex": [
       "\\begin{tabular}{r|ll}\n",
       "  & sigma & C\\\\\n",
       "\\hline\n",
       "\t3 & 2.251496 & 1       \\\\\n",
       "\\end{tabular}\n"
      ],
      "text/markdown": [
       "\n",
       "| <!--/--> | sigma | C | \n",
       "|---|\n",
       "| 3 | 2.251496 | 1        | \n",
       "\n",
       "\n"
      ],
      "text/plain": [
       "  sigma    C\n",
       "3 2.251496 1"
      ]
     },
     "metadata": {},
     "output_type": "display_data"
    }
   ],
   "source": [
    "classifier$bestTune"
   ]
  },
  {
   "cell_type": "code",
   "execution_count": null,
   "metadata": {
    "collapsed": true
   },
   "outputs": [],
   "source": []
  }
 ],
 "metadata": {
  "kernelspec": {
   "display_name": "R",
   "language": "R",
   "name": "ir"
  },
  "language_info": {
   "codemirror_mode": "r",
   "file_extension": ".r",
   "mimetype": "text/x-r-source",
   "name": "R",
   "pygments_lexer": "r",
   "version": "3.4.2"
  }
 },
 "nbformat": 4,
 "nbformat_minor": 2
}
