{
 "cells": [
  {
   "cell_type": "markdown",
   "metadata": {},
   "source": [
    "# Convolutional Neural Network"
   ]
  },
  {
   "cell_type": "markdown",
   "metadata": {},
   "source": [
    "Importing the Keras libraries and packages"
   ]
  },
  {
   "cell_type": "code",
   "execution_count": 1,
   "metadata": {},
   "outputs": [
    {
     "name": "stderr",
     "output_type": "stream",
     "text": [
      "Using TensorFlow backend.\n"
     ]
    }
   ],
   "source": [
    "from keras.models import Sequential\n",
    "from keras.layers import Convolution2D\n",
    "from keras.layers import MaxPooling2D\n",
    "from keras.layers import Flatten\n",
    "from keras.layers import Dense"
   ]
  },
  {
   "cell_type": "markdown",
   "metadata": {},
   "source": [
    "Initialising the CNN"
   ]
  },
  {
   "cell_type": "code",
   "execution_count": 2,
   "metadata": {
    "collapsed": true
   },
   "outputs": [],
   "source": [
    "classifier = Sequential()"
   ]
  },
  {
   "cell_type": "markdown",
   "metadata": {},
   "source": [
    "Step 1 - Convolution"
   ]
  },
  {
   "cell_type": "code",
   "execution_count": 3,
   "metadata": {},
   "outputs": [
    {
     "name": "stderr",
     "output_type": "stream",
     "text": [
      "C:\\Users\\jeeva\\Anaconda3\\envs\\py35\\lib\\site-packages\\ipykernel_launcher.py:1: UserWarning: Update your `Conv2D` call to the Keras 2 API: `Conv2D(32, (3, 3), input_shape=(64, 64, 3..., activation=\"relu\")`\n",
      "  \"\"\"Entry point for launching an IPython kernel.\n"
     ]
    }
   ],
   "source": [
    "classifier.add(Convolution2D(32, 3, 3, input_shape = (64, 64, 3), activation = 'relu'))\n"
   ]
  },
  {
   "cell_type": "markdown",
   "metadata": {},
   "source": [
    "Step 2 - Pooling"
   ]
  },
  {
   "cell_type": "code",
   "execution_count": 4,
   "metadata": {
    "collapsed": true
   },
   "outputs": [],
   "source": [
    "classifier.add(MaxPooling2D(pool_size = (2, 2)))\n"
   ]
  },
  {
   "cell_type": "markdown",
   "metadata": {},
   "source": [
    "Adding a second convolutional layer"
   ]
  },
  {
   "cell_type": "code",
   "execution_count": 5,
   "metadata": {},
   "outputs": [
    {
     "name": "stderr",
     "output_type": "stream",
     "text": [
      "C:\\Users\\jeeva\\Anaconda3\\envs\\py35\\lib\\site-packages\\ipykernel_launcher.py:1: UserWarning: Update your `Conv2D` call to the Keras 2 API: `Conv2D(32, (3, 3), activation=\"relu\")`\n",
      "  \"\"\"Entry point for launching an IPython kernel.\n"
     ]
    }
   ],
   "source": [
    "classifier.add(Convolution2D(32, 3, 3, activation = 'relu'))\n",
    "classifier.add(MaxPooling2D(pool_size = (2, 2)))"
   ]
  },
  {
   "cell_type": "markdown",
   "metadata": {},
   "source": [
    "Step 3 - Flattening"
   ]
  },
  {
   "cell_type": "code",
   "execution_count": 6,
   "metadata": {
    "collapsed": true
   },
   "outputs": [],
   "source": [
    "classifier.add(Flatten())"
   ]
  },
  {
   "cell_type": "markdown",
   "metadata": {},
   "source": [
    "Step 4 - Full connection"
   ]
  },
  {
   "cell_type": "code",
   "execution_count": 7,
   "metadata": {},
   "outputs": [
    {
     "name": "stderr",
     "output_type": "stream",
     "text": [
      "C:\\Users\\jeeva\\Anaconda3\\envs\\py35\\lib\\site-packages\\ipykernel_launcher.py:1: UserWarning: Update your `Dense` call to the Keras 2 API: `Dense(units=128, activation=\"relu\")`\n",
      "  \"\"\"Entry point for launching an IPython kernel.\n",
      "C:\\Users\\jeeva\\Anaconda3\\envs\\py35\\lib\\site-packages\\ipykernel_launcher.py:2: UserWarning: Update your `Dense` call to the Keras 2 API: `Dense(units=1, activation=\"sigmoid\")`\n",
      "  \n"
     ]
    }
   ],
   "source": [
    "classifier.add(Dense(output_dim = 128, activation = 'relu'))\n",
    "classifier.add(Dense(output_dim = 1, activation = 'sigmoid'))"
   ]
  },
  {
   "cell_type": "markdown",
   "metadata": {},
   "source": [
    "Compiling the CNN"
   ]
  },
  {
   "cell_type": "code",
   "execution_count": 8,
   "metadata": {
    "collapsed": true
   },
   "outputs": [],
   "source": [
    "classifier.compile(optimizer = 'adam', loss = 'binary_crossentropy', metrics = ['accuracy'])\n"
   ]
  },
  {
   "cell_type": "markdown",
   "metadata": {},
   "source": [
    "Part 2 - Fitting the CNN to the images"
   ]
  },
  {
   "cell_type": "code",
   "execution_count": 9,
   "metadata": {},
   "outputs": [
    {
     "name": "stdout",
     "output_type": "stream",
     "text": [
      "Found 8000 images belonging to 2 classes.\n",
      "Found 2000 images belonging to 2 classes.\n"
     ]
    },
    {
     "name": "stderr",
     "output_type": "stream",
     "text": [
      "C:\\Users\\jeeva\\Anaconda3\\envs\\py35\\lib\\site-packages\\ipykernel_launcher.py:24: UserWarning: The semantics of the Keras 2 argument `steps_per_epoch` is not the same as the Keras 1 argument `samples_per_epoch`. `steps_per_epoch` is the number of batches to draw from the generator at each epoch. Basically steps_per_epoch = samples_per_epoch/batch_size. Similarly `nb_val_samples`->`validation_steps` and `val_samples`->`steps` arguments have changed. Update your method calls accordingly.\n",
      "C:\\Users\\jeeva\\Anaconda3\\envs\\py35\\lib\\site-packages\\ipykernel_launcher.py:24: UserWarning: Update your `fit_generator` call to the Keras 2 API: `fit_generator(<keras.pre..., epochs=25, validation_data=<keras.pre..., validation_steps=2000, steps_per_epoch=250)`\n"
     ]
    },
    {
     "name": "stdout",
     "output_type": "stream",
     "text": [
      "Epoch 1/25\n",
      "250/250 [==============================] - 649s - loss: 0.6837 - acc: 0.5658 - val_loss: 0.6474 - val_acc: 0.6182\n",
      "Epoch 2/25\n",
      "250/250 [==============================] - 372s - loss: 0.6367 - acc: 0.6431 - val_loss: 0.6110 - val_acc: 0.6618\n",
      "Epoch 3/25\n",
      "250/250 [==============================] - 357s - loss: 0.5820 - acc: 0.6944 - val_loss: 0.5585 - val_acc: 0.7191\n",
      "Epoch 4/25\n",
      "250/250 [==============================] - 324s - loss: 0.5481 - acc: 0.7151 - val_loss: 0.5327 - val_acc: 0.7447\n",
      "Epoch 5/25\n",
      "250/250 [==============================] - 320s - loss: 0.5097 - acc: 0.7509 - val_loss: 0.5068 - val_acc: 0.7579\n",
      "Epoch 6/25\n",
      "250/250 [==============================] - 336s - loss: 0.4867 - acc: 0.7586 - val_loss: 0.4907 - val_acc: 0.7719\n",
      "Epoch 7/25\n",
      "250/250 [==============================] - 362s - loss: 0.4705 - acc: 0.7756 - val_loss: 0.4747 - val_acc: 0.7715\n",
      "Epoch 8/25\n",
      "250/250 [==============================] - 363s - loss: 0.4515 - acc: 0.7833 - val_loss: 0.5002 - val_acc: 0.7634\n",
      "Epoch 9/25\n",
      "250/250 [==============================] - 372s - loss: 0.4396 - acc: 0.7931 - val_loss: 0.4661 - val_acc: 0.7853\n",
      "Epoch 10/25\n",
      "250/250 [==============================] - 394s - loss: 0.4245 - acc: 0.8011 - val_loss: 0.4596 - val_acc: 0.7789\n",
      "Epoch 11/25\n",
      "250/250 [==============================] - 434s - loss: 0.4087 - acc: 0.8070 - val_loss: 0.4692 - val_acc: 0.7844\n",
      "Epoch 12/25\n",
      "250/250 [==============================] - 448s - loss: 0.3951 - acc: 0.8214 - val_loss: 0.4526 - val_acc: 0.8037\n",
      "Epoch 13/25\n",
      "250/250 [==============================] - 413s - loss: 0.3964 - acc: 0.8237 - val_loss: 0.4766 - val_acc: 0.7901\n",
      "Epoch 14/25\n",
      "250/250 [==============================] - 436s - loss: 0.3780 - acc: 0.8254 - val_loss: 0.4427 - val_acc: 0.8063\n",
      "Epoch 15/25\n",
      "250/250 [==============================] - 380s - loss: 0.3697 - acc: 0.8346 - val_loss: 0.4435 - val_acc: 0.8046\n",
      "Epoch 16/25\n",
      "250/250 [==============================] - 364s - loss: 0.3478 - acc: 0.8489 - val_loss: 0.4475 - val_acc: 0.7996\n",
      "Epoch 17/25\n",
      "250/250 [==============================] - 397s - loss: 0.3455 - acc: 0.8461 - val_loss: 0.4631 - val_acc: 0.8040\n",
      "Epoch 18/25\n",
      "250/250 [==============================] - 440s - loss: 0.3302 - acc: 0.8572 - val_loss: 0.4619 - val_acc: 0.8011\n",
      "Epoch 19/25\n",
      "250/250 [==============================] - 437s - loss: 0.3294 - acc: 0.8546 - val_loss: 0.4503 - val_acc: 0.8080\n",
      "Epoch 20/25\n",
      "250/250 [==============================] - 373s - loss: 0.3125 - acc: 0.8646 - val_loss: 0.4605 - val_acc: 0.8060\n",
      "Epoch 21/25\n",
      "250/250 [==============================] - 357s - loss: 0.3011 - acc: 0.8694 - val_loss: 0.4887 - val_acc: 0.7958\n",
      "Epoch 22/25\n",
      "250/250 [==============================] - 374s - loss: 0.2823 - acc: 0.8758 - val_loss: 0.4688 - val_acc: 0.8115\n",
      "Epoch 23/25\n",
      "250/250 [==============================] - 405s - loss: 0.2781 - acc: 0.8811 - val_loss: 0.5032 - val_acc: 0.8037\n",
      "Epoch 24/25\n",
      "250/250 [==============================] - 389s - loss: 0.2706 - acc: 0.8860 - val_loss: 0.5374 - val_acc: 0.7874\n",
      "Epoch 25/25\n",
      "250/250 [==============================] - 387s - loss: 0.2671 - acc: 0.8845 - val_loss: 0.4858 - val_acc: 0.8070\n"
     ]
    },
    {
     "data": {
      "text/plain": [
       "<keras.callbacks.History at 0x21681863550>"
      ]
     },
     "execution_count": 9,
     "metadata": {},
     "output_type": "execute_result"
    }
   ],
   "source": [
    "from keras.preprocessing.image import ImageDataGenerator\n",
    "\n",
    "train_datagen = ImageDataGenerator(rescale = 1./255,\n",
    "                                   shear_range = 0.2,\n",
    "                                   zoom_range = 0.2,\n",
    "                                   horizontal_flip = True)\n",
    "\n",
    "test_datagen = ImageDataGenerator(rescale = 1./255)\n",
    "\n",
    "training_set = train_datagen.flow_from_directory('dataset/training_set',\n",
    "                                                 target_size = (64, 64),\n",
    "                                                 batch_size = 32,\n",
    "                                                 class_mode = 'binary')\n",
    "\n",
    "test_set = test_datagen.flow_from_directory('dataset/test_set',\n",
    "                                            target_size = (64, 64),\n",
    "                                            batch_size = 32,\n",
    "                                            class_mode = 'binary')\n",
    "\n",
    "classifier.fit_generator(training_set,\n",
    "                         samples_per_epoch = 8000,\n",
    "                         nb_epoch = 25,\n",
    "                         validation_data = test_set,\n",
    "                         nb_val_samples = 2000)"
   ]
  },
  {
   "cell_type": "markdown",
   "metadata": {},
   "source": [
    "So we got an accuracy of 80% for our test set\n",
    "#This computation took around 3 hours in my laptop"
   ]
  }
 ],
 "metadata": {
  "kernelspec": {
   "display_name": "Python 3",
   "language": "python",
   "name": "python3"
  },
  "language_info": {
   "codemirror_mode": {
    "name": "ipython",
    "version": 3
   },
   "file_extension": ".py",
   "mimetype": "text/x-python",
   "name": "python",
   "nbconvert_exporter": "python",
   "pygments_lexer": "ipython3",
   "version": "3.5.4"
  }
 },
 "nbformat": 4,
 "nbformat_minor": 2
}
