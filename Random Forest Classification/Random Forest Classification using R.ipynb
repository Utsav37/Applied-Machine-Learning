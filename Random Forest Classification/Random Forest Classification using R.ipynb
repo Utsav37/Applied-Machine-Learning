{
 "cells": [
  {
   "cell_type": "markdown",
   "metadata": {},
   "source": [
    "# Random Forest Classification"
   ]
  },
  {
   "cell_type": "markdown",
   "metadata": {},
   "source": [
    "Importing the dataset"
   ]
  },
  {
   "cell_type": "code",
   "execution_count": 1,
   "metadata": {
    "collapsed": true
   },
   "outputs": [],
   "source": [
    "dataset = read.csv('Social_Network_Ads.csv')\n",
    "dataset = dataset[3:5]"
   ]
  },
  {
   "cell_type": "markdown",
   "metadata": {},
   "source": [
    "Encoding the target feature as factor"
   ]
  },
  {
   "cell_type": "code",
   "execution_count": 2,
   "metadata": {
    "collapsed": true
   },
   "outputs": [],
   "source": [
    "dataset$Purchased = factor(dataset$Purchased, levels = c(0, 1))"
   ]
  },
  {
   "cell_type": "markdown",
   "metadata": {},
   "source": [
    "Splitting the dataset into the Training set and Test set"
   ]
  },
  {
   "cell_type": "code",
   "execution_count": 3,
   "metadata": {},
   "outputs": [
    {
     "name": "stderr",
     "output_type": "stream",
     "text": [
      "Warning message:\n",
      "\"package 'caTools' was built under R version 3.4.3\""
     ]
    }
   ],
   "source": [
    "library(caTools)\n",
    "set.seed(123)"
   ]
  },
  {
   "cell_type": "code",
   "execution_count": 4,
   "metadata": {
    "collapsed": true
   },
   "outputs": [],
   "source": [
    "split = sample.split(dataset$Purchased, SplitRatio = 0.75)\n",
    "training_set = subset(dataset, split == TRUE)\n",
    "test_set = subset(dataset, split == FALSE)"
   ]
  },
  {
   "cell_type": "markdown",
   "metadata": {},
   "source": [
    "Feature Scaling"
   ]
  },
  {
   "cell_type": "code",
   "execution_count": 5,
   "metadata": {
    "collapsed": true
   },
   "outputs": [],
   "source": [
    "training_set[-3] = scale(training_set[-3])\n",
    "test_set[-3] = scale(test_set[-3])"
   ]
  },
  {
   "cell_type": "markdown",
   "metadata": {},
   "source": [
    " Fitting Random Forest Classification to the Training set"
   ]
  },
  {
   "cell_type": "code",
   "execution_count": 14,
   "metadata": {},
   "outputs": [],
   "source": [
    "library(randomForest)\n",
    "set.seed(123)\n",
    "classifier = randomForest(x = training_set[-3],\n",
    "                          y = training_set$Purchased,\n",
    "                          ntree = 10)"
   ]
  },
  {
   "cell_type": "markdown",
   "metadata": {},
   "source": [
    "Predicting the Test set results"
   ]
  },
  {
   "cell_type": "code",
   "execution_count": 15,
   "metadata": {},
   "outputs": [
    {
     "data": {
      "text/html": [
       "<dl class=dl-horizontal>\n",
       "\t<dt>2</dt>\n",
       "\t\t<dd>0</dd>\n",
       "\t<dt>4</dt>\n",
       "\t\t<dd>0</dd>\n",
       "\t<dt>5</dt>\n",
       "\t\t<dd>0</dd>\n",
       "\t<dt>9</dt>\n",
       "\t\t<dd>0</dd>\n",
       "\t<dt>12</dt>\n",
       "\t\t<dd>0</dd>\n",
       "\t<dt>18</dt>\n",
       "\t\t<dd>0</dd>\n",
       "\t<dt>19</dt>\n",
       "\t\t<dd>1</dd>\n",
       "\t<dt>20</dt>\n",
       "\t\t<dd>1</dd>\n",
       "\t<dt>22</dt>\n",
       "\t\t<dd>0</dd>\n",
       "\t<dt>29</dt>\n",
       "\t\t<dd>0</dd>\n",
       "\t<dt>32</dt>\n",
       "\t\t<dd>1</dd>\n",
       "\t<dt>34</dt>\n",
       "\t\t<dd>0</dd>\n",
       "\t<dt>35</dt>\n",
       "\t\t<dd>0</dd>\n",
       "\t<dt>38</dt>\n",
       "\t\t<dd>0</dd>\n",
       "\t<dt>45</dt>\n",
       "\t\t<dd>0</dd>\n",
       "\t<dt>46</dt>\n",
       "\t\t<dd>0</dd>\n",
       "\t<dt>48</dt>\n",
       "\t\t<dd>0</dd>\n",
       "\t<dt>52</dt>\n",
       "\t\t<dd>0</dd>\n",
       "\t<dt>66</dt>\n",
       "\t\t<dd>0</dd>\n",
       "\t<dt>69</dt>\n",
       "\t\t<dd>0</dd>\n",
       "\t<dt>74</dt>\n",
       "\t\t<dd>1</dd>\n",
       "\t<dt>75</dt>\n",
       "\t\t<dd>0</dd>\n",
       "\t<dt>82</dt>\n",
       "\t\t<dd>0</dd>\n",
       "\t<dt>84</dt>\n",
       "\t\t<dd>1</dd>\n",
       "\t<dt>85</dt>\n",
       "\t\t<dd>0</dd>\n",
       "\t<dt>86</dt>\n",
       "\t\t<dd>1</dd>\n",
       "\t<dt>87</dt>\n",
       "\t\t<dd>0</dd>\n",
       "\t<dt>89</dt>\n",
       "\t\t<dd>0</dd>\n",
       "\t<dt>103</dt>\n",
       "\t\t<dd>1</dd>\n",
       "\t<dt>104</dt>\n",
       "\t\t<dd>1</dd>\n",
       "\t<dt>107</dt>\n",
       "\t\t<dd>0</dd>\n",
       "\t<dt>108</dt>\n",
       "\t\t<dd>1</dd>\n",
       "\t<dt>109</dt>\n",
       "\t\t<dd>0</dd>\n",
       "\t<dt>117</dt>\n",
       "\t\t<dd>0</dd>\n",
       "\t<dt>124</dt>\n",
       "\t\t<dd>0</dd>\n",
       "\t<dt>126</dt>\n",
       "\t\t<dd>0</dd>\n",
       "\t<dt>127</dt>\n",
       "\t\t<dd>0</dd>\n",
       "\t<dt>131</dt>\n",
       "\t\t<dd>0</dd>\n",
       "\t<dt>134</dt>\n",
       "\t\t<dd>0</dd>\n",
       "\t<dt>139</dt>\n",
       "\t\t<dd>0</dd>\n",
       "\t<dt>148</dt>\n",
       "\t\t<dd>0</dd>\n",
       "\t<dt>154</dt>\n",
       "\t\t<dd>0</dd>\n",
       "\t<dt>156</dt>\n",
       "\t\t<dd>0</dd>\n",
       "\t<dt>159</dt>\n",
       "\t\t<dd>0</dd>\n",
       "\t<dt>162</dt>\n",
       "\t\t<dd>0</dd>\n",
       "\t<dt>163</dt>\n",
       "\t\t<dd>0</dd>\n",
       "\t<dt>170</dt>\n",
       "\t\t<dd>0</dd>\n",
       "\t<dt>175</dt>\n",
       "\t\t<dd>0</dd>\n",
       "\t<dt>176</dt>\n",
       "\t\t<dd>0</dd>\n",
       "\t<dt>193</dt>\n",
       "\t\t<dd>0</dd>\n",
       "\t<dt>199</dt>\n",
       "\t\t<dd>0</dd>\n",
       "\t<dt>200</dt>\n",
       "\t\t<dd>0</dd>\n",
       "\t<dt>208</dt>\n",
       "\t\t<dd>1</dd>\n",
       "\t<dt>213</dt>\n",
       "\t\t<dd>1</dd>\n",
       "\t<dt>224</dt>\n",
       "\t\t<dd>1</dd>\n",
       "\t<dt>226</dt>\n",
       "\t\t<dd>0</dd>\n",
       "\t<dt>228</dt>\n",
       "\t\t<dd>1</dd>\n",
       "\t<dt>229</dt>\n",
       "\t\t<dd>0</dd>\n",
       "\t<dt>230</dt>\n",
       "\t\t<dd>1</dd>\n",
       "\t<dt>234</dt>\n",
       "\t\t<dd>1</dd>\n",
       "\t<dt>236</dt>\n",
       "\t\t<dd>1</dd>\n",
       "\t<dt>237</dt>\n",
       "\t\t<dd>0</dd>\n",
       "\t<dt>239</dt>\n",
       "\t\t<dd>1</dd>\n",
       "\t<dt>241</dt>\n",
       "\t\t<dd>1</dd>\n",
       "\t<dt>255</dt>\n",
       "\t\t<dd>1</dd>\n",
       "\t<dt>264</dt>\n",
       "\t\t<dd>0</dd>\n",
       "\t<dt>265</dt>\n",
       "\t\t<dd>1</dd>\n",
       "\t<dt>266</dt>\n",
       "\t\t<dd>1</dd>\n",
       "\t<dt>273</dt>\n",
       "\t\t<dd>1</dd>\n",
       "\t<dt>274</dt>\n",
       "\t\t<dd>1</dd>\n",
       "\t<dt>281</dt>\n",
       "\t\t<dd>1</dd>\n",
       "\t<dt>286</dt>\n",
       "\t\t<dd>1</dd>\n",
       "\t<dt>292</dt>\n",
       "\t\t<dd>1</dd>\n",
       "\t<dt>299</dt>\n",
       "\t\t<dd>1</dd>\n",
       "\t<dt>302</dt>\n",
       "\t\t<dd>0</dd>\n",
       "\t<dt>305</dt>\n",
       "\t\t<dd>0</dd>\n",
       "\t<dt>307</dt>\n",
       "\t\t<dd>1</dd>\n",
       "\t<dt>310</dt>\n",
       "\t\t<dd>0</dd>\n",
       "\t<dt>316</dt>\n",
       "\t\t<dd>0</dd>\n",
       "\t<dt>324</dt>\n",
       "\t\t<dd>1</dd>\n",
       "\t<dt>326</dt>\n",
       "\t\t<dd>0</dd>\n",
       "\t<dt>332</dt>\n",
       "\t\t<dd>1</dd>\n",
       "\t<dt>339</dt>\n",
       "\t\t<dd>0</dd>\n",
       "\t<dt>341</dt>\n",
       "\t\t<dd>1</dd>\n",
       "\t<dt>343</dt>\n",
       "\t\t<dd>0</dd>\n",
       "\t<dt>347</dt>\n",
       "\t\t<dd>1</dd>\n",
       "\t<dt>353</dt>\n",
       "\t\t<dd>1</dd>\n",
       "\t<dt>363</dt>\n",
       "\t\t<dd>0</dd>\n",
       "\t<dt>364</dt>\n",
       "\t\t<dd>1</dd>\n",
       "\t<dt>367</dt>\n",
       "\t\t<dd>1</dd>\n",
       "\t<dt>368</dt>\n",
       "\t\t<dd>1</dd>\n",
       "\t<dt>369</dt>\n",
       "\t\t<dd>0</dd>\n",
       "\t<dt>372</dt>\n",
       "\t\t<dd>0</dd>\n",
       "\t<dt>373</dt>\n",
       "\t\t<dd>0</dd>\n",
       "\t<dt>380</dt>\n",
       "\t\t<dd>1</dd>\n",
       "\t<dt>383</dt>\n",
       "\t\t<dd>1</dd>\n",
       "\t<dt>389</dt>\n",
       "\t\t<dd>1</dd>\n",
       "\t<dt>392</dt>\n",
       "\t\t<dd>0</dd>\n",
       "\t<dt>395</dt>\n",
       "\t\t<dd>0</dd>\n",
       "\t<dt>400</dt>\n",
       "\t\t<dd>1</dd>\n",
       "</dl>\n"
      ],
      "text/latex": [
       "\\begin{description*}\n",
       "\\item[2] 0\n",
       "\\item[4] 0\n",
       "\\item[5] 0\n",
       "\\item[9] 0\n",
       "\\item[12] 0\n",
       "\\item[18] 0\n",
       "\\item[19] 1\n",
       "\\item[20] 1\n",
       "\\item[22] 0\n",
       "\\item[29] 0\n",
       "\\item[32] 1\n",
       "\\item[34] 0\n",
       "\\item[35] 0\n",
       "\\item[38] 0\n",
       "\\item[45] 0\n",
       "\\item[46] 0\n",
       "\\item[48] 0\n",
       "\\item[52] 0\n",
       "\\item[66] 0\n",
       "\\item[69] 0\n",
       "\\item[74] 1\n",
       "\\item[75] 0\n",
       "\\item[82] 0\n",
       "\\item[84] 1\n",
       "\\item[85] 0\n",
       "\\item[86] 1\n",
       "\\item[87] 0\n",
       "\\item[89] 0\n",
       "\\item[103] 1\n",
       "\\item[104] 1\n",
       "\\item[107] 0\n",
       "\\item[108] 1\n",
       "\\item[109] 0\n",
       "\\item[117] 0\n",
       "\\item[124] 0\n",
       "\\item[126] 0\n",
       "\\item[127] 0\n",
       "\\item[131] 0\n",
       "\\item[134] 0\n",
       "\\item[139] 0\n",
       "\\item[148] 0\n",
       "\\item[154] 0\n",
       "\\item[156] 0\n",
       "\\item[159] 0\n",
       "\\item[162] 0\n",
       "\\item[163] 0\n",
       "\\item[170] 0\n",
       "\\item[175] 0\n",
       "\\item[176] 0\n",
       "\\item[193] 0\n",
       "\\item[199] 0\n",
       "\\item[200] 0\n",
       "\\item[208] 1\n",
       "\\item[213] 1\n",
       "\\item[224] 1\n",
       "\\item[226] 0\n",
       "\\item[228] 1\n",
       "\\item[229] 0\n",
       "\\item[230] 1\n",
       "\\item[234] 1\n",
       "\\item[236] 1\n",
       "\\item[237] 0\n",
       "\\item[239] 1\n",
       "\\item[241] 1\n",
       "\\item[255] 1\n",
       "\\item[264] 0\n",
       "\\item[265] 1\n",
       "\\item[266] 1\n",
       "\\item[273] 1\n",
       "\\item[274] 1\n",
       "\\item[281] 1\n",
       "\\item[286] 1\n",
       "\\item[292] 1\n",
       "\\item[299] 1\n",
       "\\item[302] 0\n",
       "\\item[305] 0\n",
       "\\item[307] 1\n",
       "\\item[310] 0\n",
       "\\item[316] 0\n",
       "\\item[324] 1\n",
       "\\item[326] 0\n",
       "\\item[332] 1\n",
       "\\item[339] 0\n",
       "\\item[341] 1\n",
       "\\item[343] 0\n",
       "\\item[347] 1\n",
       "\\item[353] 1\n",
       "\\item[363] 0\n",
       "\\item[364] 1\n",
       "\\item[367] 1\n",
       "\\item[368] 1\n",
       "\\item[369] 0\n",
       "\\item[372] 0\n",
       "\\item[373] 0\n",
       "\\item[380] 1\n",
       "\\item[383] 1\n",
       "\\item[389] 1\n",
       "\\item[392] 0\n",
       "\\item[395] 0\n",
       "\\item[400] 1\n",
       "\\end{description*}\n"
      ],
      "text/markdown": [
       "2\n",
       ":   04\n",
       ":   05\n",
       ":   09\n",
       ":   012\n",
       ":   018\n",
       ":   019\n",
       ":   120\n",
       ":   122\n",
       ":   029\n",
       ":   032\n",
       ":   134\n",
       ":   035\n",
       ":   038\n",
       ":   045\n",
       ":   046\n",
       ":   048\n",
       ":   052\n",
       ":   066\n",
       ":   069\n",
       ":   074\n",
       ":   175\n",
       ":   082\n",
       ":   084\n",
       ":   185\n",
       ":   086\n",
       ":   187\n",
       ":   089\n",
       ":   0103\n",
       ":   1104\n",
       ":   1107\n",
       ":   0108\n",
       ":   1109\n",
       ":   0117\n",
       ":   0124\n",
       ":   0126\n",
       ":   0127\n",
       ":   0131\n",
       ":   0134\n",
       ":   0139\n",
       ":   0148\n",
       ":   0154\n",
       ":   0156\n",
       ":   0159\n",
       ":   0162\n",
       ":   0163\n",
       ":   0170\n",
       ":   0175\n",
       ":   0176\n",
       ":   0193\n",
       ":   0199\n",
       ":   0200\n",
       ":   0208\n",
       ":   1213\n",
       ":   1224\n",
       ":   1226\n",
       ":   0228\n",
       ":   1229\n",
       ":   0230\n",
       ":   1234\n",
       ":   1236\n",
       ":   1237\n",
       ":   0239\n",
       ":   1241\n",
       ":   1255\n",
       ":   1264\n",
       ":   0265\n",
       ":   1266\n",
       ":   1273\n",
       ":   1274\n",
       ":   1281\n",
       ":   1286\n",
       ":   1292\n",
       ":   1299\n",
       ":   1302\n",
       ":   0305\n",
       ":   0307\n",
       ":   1310\n",
       ":   0316\n",
       ":   0324\n",
       ":   1326\n",
       ":   0332\n",
       ":   1339\n",
       ":   0341\n",
       ":   1343\n",
       ":   0347\n",
       ":   1353\n",
       ":   1363\n",
       ":   0364\n",
       ":   1367\n",
       ":   1368\n",
       ":   1369\n",
       ":   0372\n",
       ":   0373\n",
       ":   0380\n",
       ":   1383\n",
       ":   1389\n",
       ":   1392\n",
       ":   0395\n",
       ":   0400\n",
       ":   1\n",
       "\n"
      ],
      "text/plain": [
       "  2   4   5   9  12  18  19  20  22  29  32  34  35  38  45  46  48  52  66  69 \n",
       "  0   0   0   0   0   0   1   1   0   0   1   0   0   0   0   0   0   0   0   0 \n",
       " 74  75  82  84  85  86  87  89 103 104 107 108 109 117 124 126 127 131 134 139 \n",
       "  1   0   0   1   0   1   0   0   1   1   0   1   0   0   0   0   0   0   0   0 \n",
       "148 154 156 159 162 163 170 175 176 193 199 200 208 213 224 226 228 229 230 234 \n",
       "  0   0   0   0   0   0   0   0   0   0   0   0   1   1   1   0   1   0   1   1 \n",
       "236 237 239 241 255 264 265 266 273 274 281 286 292 299 302 305 307 310 316 324 \n",
       "  1   0   1   1   1   0   1   1   1   1   1   1   1   1   0   0   1   0   0   1 \n",
       "326 332 339 341 343 347 353 363 364 367 368 369 372 373 380 383 389 392 395 400 \n",
       "  0   1   0   1   0   1   1   0   1   1   1   0   0   0   1   1   1   0   0   1 \n",
       "Levels: 0 1"
      ]
     },
     "metadata": {},
     "output_type": "display_data"
    }
   ],
   "source": [
    "y_pred = predict(classifier, newdata = test_set[-3])\n",
    "y_pred"
   ]
  },
  {
   "cell_type": "markdown",
   "metadata": {},
   "source": [
    "Making the Confusion Matrix"
   ]
  },
  {
   "cell_type": "code",
   "execution_count": 16,
   "metadata": {},
   "outputs": [
    {
     "data": {
      "text/plain": [
       "   y_pred\n",
       "     0  1\n",
       "  0 53 11\n",
       "  1  7 29"
      ]
     },
     "metadata": {},
     "output_type": "display_data"
    }
   ],
   "source": [
    "cm = table(test_set[, 3], y_pred)\n",
    "cm"
   ]
  },
  {
   "cell_type": "markdown",
   "metadata": {},
   "source": [
    "Visualising the Training set results"
   ]
  },
  {
   "cell_type": "code",
   "execution_count": 17,
   "metadata": {},
   "outputs": [
    {
     "data": {
      "image/png": "[encoded data removed]",
      "text/plain": [
       "Plot with title \"Random Forest Classification (Training set)\""
      ]
     },
     "metadata": {},
     "output_type": "display_data"
    }
   ],
   "source": [
    "library(ElemStatLearn)\n",
    "set = training_set\n",
    "X1 = seq(min(set[, 1]) - 1, max(set[, 1]) + 1, by = 0.01)\n",
    "X2 = seq(min(set[, 2]) - 1, max(set[, 2]) + 1, by = 0.01)\n",
    "grid_set = expand.grid(X1, X2)\n",
    "colnames(grid_set) = c('Age', 'EstimatedSalary')\n",
    "y_grid = predict(classifier, grid_set)\n",
    "plot(set[, -3],\n",
    "     main = 'Random Forest Classification (Training set)',\n",
    "     xlab = 'Age', ylab = 'Estimated Salary',\n",
    "     xlim = range(X1), ylim = range(X2))\n",
    "contour(X1, X2, matrix(as.numeric(y_grid), length(X1), length(X2)), add = TRUE)\n",
    "points(grid_set, pch = '.', col = ifelse(y_grid == 1, 'springgreen3', 'tomato'))\n",
    "points(set, pch = 21, bg = ifelse(set[, 3] == 1, 'green4', 'red3'))"
   ]
  },
  {
   "cell_type": "markdown",
   "metadata": {},
   "source": [
    "Visualising the Test set results"
   ]
  },
  {
   "cell_type": "code",
   "execution_count": 18,
   "metadata": {},
   "outputs": [
    {
     "data": {
      "image/png": "[encoded data removed]",
      "text/plain": [
       "Plot with title \"Random Forest Classification (Test set)\""
      ]
     },
     "metadata": {},
     "output_type": "display_data"
    }
   ],
   "source": [
    "set = test_set\n",
    "X1 = seq(min(set[, 1]) - 1, max(set[, 1]) + 1, by = 0.01)\n",
    "X2 = seq(min(set[, 2]) - 1, max(set[, 2]) + 1, by = 0.01)\n",
    "grid_set = expand.grid(X1, X2)\n",
    "colnames(grid_set) = c('Age', 'EstimatedSalary')\n",
    "y_grid = predict(classifier, grid_set)\n",
    "plot(set[, -3], main = 'Random Forest Classification (Test set)',\n",
    "     xlab = 'Age', ylab = 'Estimated Salary',\n",
    "     xlim = range(X1), ylim = range(X2))\n",
    "contour(X1, X2, matrix(as.numeric(y_grid), length(X1), length(X2)), add = TRUE)\n",
    "points(grid_set, pch = '.', col = ifelse(y_grid == 1, 'springgreen3', 'tomato'))\n",
    "points(set, pch = 21, bg = ifelse(set[, 3] == 1, 'green4', 'red3'))"
   ]
  },
  {
   "cell_type": "markdown",
   "metadata": {
    "collapsed": true
   },
   "source": [
    "Choosing the number of trees"
   ]
  },
  {
   "cell_type": "code",
   "execution_count": 19,
   "metadata": {},
   "outputs": [
    {
     "data": {
      "image/png": "[encoded data removed]",
      "text/plain": [
       "Plot with title \"classifier\""
      ]
     },
     "metadata": {},
     "output_type": "display_data"
    }
   ],
   "source": [
    "plot(classifier)\n"
   ]
  }
 ],
 "metadata": {
  "kernelspec": {
   "display_name": "R",
   "language": "R",
   "name": "ir"
  },
  "language_info": {
   "codemirror_mode": "r",
   "file_extension": ".r",
   "mimetype": "text/x-r-source",
   "name": "R",
   "pygments_lexer": "r",
   "version": "3.4.2"
  }
 },
 "nbformat": 4,
 "nbformat_minor": 2
}
