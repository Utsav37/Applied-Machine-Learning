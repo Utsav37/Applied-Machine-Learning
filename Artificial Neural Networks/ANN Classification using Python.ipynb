{
 "cells": [
  {
   "cell_type": "markdown",
   "metadata": {},
   "source": [
    "# ANN Classification"
   ]
  },
  {
   "cell_type": "markdown",
   "metadata": {},
   "source": [
    "Importing the libraries"
   ]
  },
  {
   "cell_type": "code",
   "execution_count": 1,
   "metadata": {
    "collapsed": true
   },
   "outputs": [],
   "source": [
    "import numpy as np\n",
    "import matplotlib.pyplot as plt\n",
    "import pandas as pd"
   ]
  },
  {
   "cell_type": "markdown",
   "metadata": {},
   "source": [
    "Importing the dataset"
   ]
  },
  {
   "cell_type": "code",
   "execution_count": 2,
   "metadata": {},
   "outputs": [
    {
     "data": {
      "text/html": [
       "<div>\n",
       "<style>\n",
       "    .dataframe thead tr:only-child th {\n",
       "        text-align: right;\n",
       "    }\n",
       "\n",
       "    .dataframe thead th {\n",
       "        text-align: left;\n",
       "    }\n",
       "\n",
       "    .dataframe tbody tr th {\n",
       "        vertical-align: top;\n",
       "    }\n",
       "</style>\n",
       "<table border=\"1\" class=\"dataframe\">\n",
       "  <thead>\n",
       "    <tr style=\"text-align: right;\">\n",
       "      <th></th>\n",
       "      <th>RowNumber</th>\n",
       "      <th>CustomerId</th>\n",
       "      <th>Surname</th>\n",
       "      <th>CreditScore</th>\n",
       "      <th>Geography</th>\n",
       "      <th>Gender</th>\n",
       "      <th>Age</th>\n",
       "      <th>Tenure</th>\n",
       "      <th>Balance</th>\n",
       "      <th>NumOfProducts</th>\n",
       "      <th>HasCrCard</th>\n",
       "      <th>IsActiveMember</th>\n",
       "      <th>EstimatedSalary</th>\n",
       "      <th>Exited</th>\n",
       "    </tr>\n",
       "  </thead>\n",
       "  <tbody>\n",
       "    <tr>\n",
       "      <th>0</th>\n",
       "      <td>1</td>\n",
       "      <td>15634602</td>\n",
       "      <td>Hargrave</td>\n",
       "      <td>619</td>\n",
       "      <td>France</td>\n",
       "      <td>Female</td>\n",
       "      <td>42</td>\n",
       "      <td>2</td>\n",
       "      <td>0.00</td>\n",
       "      <td>1</td>\n",
       "      <td>1</td>\n",
       "      <td>1</td>\n",
       "      <td>101348.88</td>\n",
       "      <td>1</td>\n",
       "    </tr>\n",
       "    <tr>\n",
       "      <th>1</th>\n",
       "      <td>2</td>\n",
       "      <td>15647311</td>\n",
       "      <td>Hill</td>\n",
       "      <td>608</td>\n",
       "      <td>Spain</td>\n",
       "      <td>Female</td>\n",
       "      <td>41</td>\n",
       "      <td>1</td>\n",
       "      <td>83807.86</td>\n",
       "      <td>1</td>\n",
       "      <td>0</td>\n",
       "      <td>1</td>\n",
       "      <td>112542.58</td>\n",
       "      <td>0</td>\n",
       "    </tr>\n",
       "    <tr>\n",
       "      <th>2</th>\n",
       "      <td>3</td>\n",
       "      <td>15619304</td>\n",
       "      <td>Onio</td>\n",
       "      <td>502</td>\n",
       "      <td>France</td>\n",
       "      <td>Female</td>\n",
       "      <td>42</td>\n",
       "      <td>8</td>\n",
       "      <td>159660.80</td>\n",
       "      <td>3</td>\n",
       "      <td>1</td>\n",
       "      <td>0</td>\n",
       "      <td>113931.57</td>\n",
       "      <td>1</td>\n",
       "    </tr>\n",
       "    <tr>\n",
       "      <th>3</th>\n",
       "      <td>4</td>\n",
       "      <td>15701354</td>\n",
       "      <td>Boni</td>\n",
       "      <td>699</td>\n",
       "      <td>France</td>\n",
       "      <td>Female</td>\n",
       "      <td>39</td>\n",
       "      <td>1</td>\n",
       "      <td>0.00</td>\n",
       "      <td>2</td>\n",
       "      <td>0</td>\n",
       "      <td>0</td>\n",
       "      <td>93826.63</td>\n",
       "      <td>0</td>\n",
       "    </tr>\n",
       "    <tr>\n",
       "      <th>4</th>\n",
       "      <td>5</td>\n",
       "      <td>15737888</td>\n",
       "      <td>Mitchell</td>\n",
       "      <td>850</td>\n",
       "      <td>Spain</td>\n",
       "      <td>Female</td>\n",
       "      <td>43</td>\n",
       "      <td>2</td>\n",
       "      <td>125510.82</td>\n",
       "      <td>1</td>\n",
       "      <td>1</td>\n",
       "      <td>1</td>\n",
       "      <td>79084.10</td>\n",
       "      <td>0</td>\n",
       "    </tr>\n",
       "  </tbody>\n",
       "</table>\n",
       "</div>"
      ],
      "text/plain": [
       "   RowNumber  CustomerId   Surname  CreditScore Geography  Gender  Age  \\\n",
       "0          1    15634602  Hargrave          619    France  Female   42   \n",
       "1          2    15647311      Hill          608     Spain  Female   41   \n",
       "2          3    15619304      Onio          502    France  Female   42   \n",
       "3          4    15701354      Boni          699    France  Female   39   \n",
       "4          5    15737888  Mitchell          850     Spain  Female   43   \n",
       "\n",
       "   Tenure    Balance  NumOfProducts  HasCrCard  IsActiveMember  \\\n",
       "0       2       0.00              1          1               1   \n",
       "1       1   83807.86              1          0               1   \n",
       "2       8  159660.80              3          1               0   \n",
       "3       1       0.00              2          0               0   \n",
       "4       2  125510.82              1          1               1   \n",
       "\n",
       "   EstimatedSalary  Exited  \n",
       "0        101348.88       1  \n",
       "1        112542.58       0  \n",
       "2        113931.57       1  \n",
       "3         93826.63       0  \n",
       "4         79084.10       0  "
      ]
     },
     "execution_count": 2,
     "metadata": {},
     "output_type": "execute_result"
    }
   ],
   "source": [
    "dataset = pd.read_csv('Churn_Modelling.csv')\n",
    "X = dataset.iloc[:, 3:13].values\n",
    "y = dataset.iloc[:, 13].values\n",
    "dataset.head()"
   ]
  },
  {
   "cell_type": "markdown",
   "metadata": {},
   "source": [
    "Encoding categorical data"
   ]
  },
  {
   "cell_type": "code",
   "execution_count": 3,
   "metadata": {
    "collapsed": true
   },
   "outputs": [],
   "source": [
    "from sklearn.preprocessing import LabelEncoder, OneHotEncoder\n",
    "labelencoder_X_1 = LabelEncoder()\n",
    "X[:, 1] = labelencoder_X_1.fit_transform(X[:, 1])\n",
    "labelencoder_X_2 = LabelEncoder()\n",
    "X[:, 2] = labelencoder_X_2.fit_transform(X[:, 2])\n",
    "onehotencoder = OneHotEncoder(categorical_features = [1])\n",
    "X = onehotencoder.fit_transform(X).toarray()\n",
    "X = X[:, 1:]"
   ]
  },
  {
   "cell_type": "markdown",
   "metadata": {},
   "source": [
    "Splitting the dataset into the Training set and Test set"
   ]
  },
  {
   "cell_type": "code",
   "execution_count": 4,
   "metadata": {
    "collapsed": true
   },
   "outputs": [],
   "source": [
    "from sklearn.model_selection import train_test_split\n",
    "X_train, X_test, y_train, y_test = train_test_split(X, y, test_size = 0.2, random_state = 0)\n"
   ]
  },
  {
   "cell_type": "markdown",
   "metadata": {},
   "source": [
    "Feature Scaling"
   ]
  },
  {
   "cell_type": "code",
   "execution_count": 6,
   "metadata": {
    "collapsed": true
   },
   "outputs": [],
   "source": [
    "from sklearn.preprocessing import StandardScaler\n",
    "sc = StandardScaler()\n",
    "X_train = sc.fit_transform(X_train)\n",
    "X_test = sc.transform(X_test)"
   ]
  },
  {
   "cell_type": "markdown",
   "metadata": {},
   "source": [
    "Importing the Keras libraries and packages"
   ]
  },
  {
   "cell_type": "code",
   "execution_count": 7,
   "metadata": {},
   "outputs": [
    {
     "name": "stderr",
     "output_type": "stream",
     "text": [
      "Using TensorFlow backend.\n"
     ]
    }
   ],
   "source": [
    "import keras\n",
    "from keras.models import Sequential\n",
    "from keras.layers import Dense"
   ]
  },
  {
   "cell_type": "markdown",
   "metadata": {},
   "source": [
    "Initialising the ANN"
   ]
  },
  {
   "cell_type": "code",
   "execution_count": 8,
   "metadata": {
    "collapsed": true
   },
   "outputs": [],
   "source": [
    "classifier = Sequential()"
   ]
  },
  {
   "cell_type": "markdown",
   "metadata": {},
   "source": [
    "Adding the input layer and the first hidden layer"
   ]
  },
  {
   "cell_type": "code",
   "execution_count": 9,
   "metadata": {},
   "outputs": [
    {
     "name": "stderr",
     "output_type": "stream",
     "text": [
      "C:\\Users\\jeeva\\Anaconda3\\envs\\py35\\lib\\site-packages\\ipykernel_launcher.py:1: UserWarning: Update your `Dense` call to the Keras 2 API: `Dense(units=6, input_dim=11, kernel_initializer=\"uniform\", activation=\"relu\")`\n",
      "  \"\"\"Entry point for launching an IPython kernel.\n"
     ]
    }
   ],
   "source": [
    "classifier.add(Dense(output_dim = 6, init = 'uniform', activation = 'relu', input_dim = 11))"
   ]
  },
  {
   "cell_type": "markdown",
   "metadata": {},
   "source": [
    "Adding the second hidden layer"
   ]
  },
  {
   "cell_type": "code",
   "execution_count": 10,
   "metadata": {},
   "outputs": [
    {
     "name": "stderr",
     "output_type": "stream",
     "text": [
      "C:\\Users\\jeeva\\Anaconda3\\envs\\py35\\lib\\site-packages\\ipykernel_launcher.py:1: UserWarning: Update your `Dense` call to the Keras 2 API: `Dense(units=6, kernel_initializer=\"uniform\", activation=\"relu\")`\n",
      "  \"\"\"Entry point for launching an IPython kernel.\n"
     ]
    }
   ],
   "source": [
    "classifier.add(Dense(output_dim = 6, init = 'uniform', activation = 'relu'))\n"
   ]
  },
  {
   "cell_type": "markdown",
   "metadata": {},
   "source": [
    "Adding the output layer"
   ]
  },
  {
   "cell_type": "code",
   "execution_count": 11,
   "metadata": {},
   "outputs": [
    {
     "name": "stderr",
     "output_type": "stream",
     "text": [
      "C:\\Users\\jeeva\\Anaconda3\\envs\\py35\\lib\\site-packages\\ipykernel_launcher.py:1: UserWarning: Update your `Dense` call to the Keras 2 API: `Dense(units=1, kernel_initializer=\"uniform\", activation=\"sigmoid\")`\n",
      "  \"\"\"Entry point for launching an IPython kernel.\n"
     ]
    }
   ],
   "source": [
    "classifier.add(Dense(output_dim = 1, init = 'uniform', activation = 'sigmoid'))"
   ]
  },
  {
   "cell_type": "markdown",
   "metadata": {},
   "source": [
    "Compiling the ANN"
   ]
  },
  {
   "cell_type": "code",
   "execution_count": 12,
   "metadata": {
    "collapsed": true
   },
   "outputs": [],
   "source": [
    "classifier.compile(optimizer = 'adam', loss = 'binary_crossentropy', metrics = ['accuracy'])"
   ]
  },
  {
   "cell_type": "markdown",
   "metadata": {},
   "source": [
    "Fitting the ANN to the Training set"
   ]
  },
  {
   "cell_type": "code",
   "execution_count": 13,
   "metadata": {},
   "outputs": [
    {
     "name": "stderr",
     "output_type": "stream",
     "text": [
      "C:\\Users\\jeeva\\Anaconda3\\envs\\py35\\lib\\site-packages\\keras\\models.py:848: UserWarning: The `nb_epoch` argument in `fit` has been renamed `epochs`.\n",
      "  warnings.warn('The `nb_epoch` argument in `fit` '\n"
     ]
    },
    {
     "name": "stdout",
     "output_type": "stream",
     "text": [
      "Epoch 1/100\n",
      "8000/8000 [==============================] - 5s - loss: 0.4804 - acc: 0.7960     \n",
      "Epoch 2/100\n",
      "8000/8000 [==============================] - 3s - loss: 0.4277 - acc: 0.7960     \n",
      "Epoch 3/100\n",
      "8000/8000 [==============================] - 4s - loss: 0.4219 - acc: 0.7984     \n",
      "Epoch 4/100\n",
      "8000/8000 [==============================] - 2s - loss: 0.4181 - acc: 0.8220     \n",
      "Epoch 5/100\n",
      "8000/8000 [==============================] - 2s - loss: 0.4163 - acc: 0.8284     \n",
      "Epoch 6/100\n",
      "8000/8000 [==============================] - 2s - loss: 0.4146 - acc: 0.8291     \n",
      "Epoch 7/100\n",
      "8000/8000 [==============================] - 2s - loss: 0.4127 - acc: 0.8311     \n",
      "Epoch 8/100\n",
      "8000/8000 [==============================] - 3s - loss: 0.4125 - acc: 0.8320     \n",
      "Epoch 9/100\n",
      "8000/8000 [==============================] - 2s - loss: 0.4109 - acc: 0.8331     \n",
      "Epoch 10/100\n",
      "8000/8000 [==============================] - 3s - loss: 0.4107 - acc: 0.8337     \n",
      "Epoch 11/100\n",
      "8000/8000 [==============================] - 3s - loss: 0.4097 - acc: 0.8335     \n",
      "Epoch 12/100\n",
      "8000/8000 [==============================] - 3s - loss: 0.4091 - acc: 0.8334     \n",
      "Epoch 13/100\n",
      "8000/8000 [==============================] - 3s - loss: 0.4078 - acc: 0.8332     \n",
      "Epoch 14/100\n",
      "8000/8000 [==============================] - 2s - loss: 0.4079 - acc: 0.8336     \n",
      "Epoch 15/100\n",
      "8000/8000 [==============================] - 2s - loss: 0.4067 - acc: 0.8357     \n",
      "Epoch 16/100\n",
      "8000/8000 [==============================] - 2s - loss: 0.4065 - acc: 0.8355     \n",
      "Epoch 17/100\n",
      "8000/8000 [==============================] - 3s - loss: 0.4057 - acc: 0.8334     \n",
      "Epoch 18/100\n",
      "8000/8000 [==============================] - 4s - loss: 0.4058 - acc: 0.8352     \n",
      "Epoch 19/100\n",
      "8000/8000 [==============================] - 2s - loss: 0.4054 - acc: 0.8342     \n",
      "Epoch 20/100\n",
      "8000/8000 [==============================] - 2s - loss: 0.4048 - acc: 0.8345     \n",
      "Epoch 21/100\n",
      "8000/8000 [==============================] - 2s - loss: 0.4045 - acc: 0.8347     \n",
      "Epoch 22/100\n",
      "8000/8000 [==============================] - 3s - loss: 0.4047 - acc: 0.8350     \n",
      "Epoch 23/100\n",
      "8000/8000 [==============================] - 3s - loss: 0.4042 - acc: 0.8350     \n",
      "Epoch 24/100\n",
      "8000/8000 [==============================] - 2s - loss: 0.4040 - acc: 0.8362     \n",
      "Epoch 25/100\n",
      "8000/8000 [==============================] - 2s - loss: 0.4042 - acc: 0.8334     \n",
      "Epoch 26/100\n",
      "8000/8000 [==============================] - 2s - loss: 0.4039 - acc: 0.8346     \n",
      "Epoch 27/100\n",
      "8000/8000 [==============================] - 2s - loss: 0.4034 - acc: 0.8356     \n",
      "Epoch 28/100\n",
      "8000/8000 [==============================] - 3s - loss: 0.4035 - acc: 0.8337     \n",
      "Epoch 29/100\n",
      "8000/8000 [==============================] - 2s - loss: 0.4034 - acc: 0.8341     \n",
      "Epoch 30/100\n",
      "8000/8000 [==============================] - 3s - loss: 0.4029 - acc: 0.8345     \n",
      "Epoch 31/100\n",
      "8000/8000 [==============================] - 3s - loss: 0.4029 - acc: 0.8355     \n",
      "Epoch 32/100\n",
      "8000/8000 [==============================] - 3s - loss: 0.4030 - acc: 0.8355     \n",
      "Epoch 33/100\n",
      "8000/8000 [==============================] - 4s - loss: 0.4027 - acc: 0.8342     \n",
      "Epoch 34/100\n",
      "8000/8000 [==============================] - 3s - loss: 0.4026 - acc: 0.8341     \n",
      "Epoch 35/100\n",
      "8000/8000 [==============================] - 3s - loss: 0.4030 - acc: 0.8334     \n",
      "Epoch 36/100\n",
      "8000/8000 [==============================] - 3s - loss: 0.4022 - acc: 0.8350     \n",
      "Epoch 37/100\n",
      "8000/8000 [==============================] - 4s - loss: 0.4026 - acc: 0.8342     \n",
      "Epoch 38/100\n",
      "8000/8000 [==============================] - 4s - loss: 0.4028 - acc: 0.8340     \n",
      "Epoch 39/100\n",
      "8000/8000 [==============================] - 3s - loss: 0.4028 - acc: 0.8335     \n",
      "Epoch 40/100\n",
      "8000/8000 [==============================] - 4s - loss: 0.4022 - acc: 0.8351     \n",
      "Epoch 41/100\n",
      "8000/8000 [==============================] - 4s - loss: 0.4021 - acc: 0.8351     \n",
      "Epoch 42/100\n",
      "8000/8000 [==============================] - 4s - loss: 0.4019 - acc: 0.8345     \n",
      "Epoch 43/100\n",
      "8000/8000 [==============================] - 4s - loss: 0.4026 - acc: 0.8331     \n",
      "Epoch 44/100\n",
      "8000/8000 [==============================] - 4s - loss: 0.4017 - acc: 0.8347     \n",
      "Epoch 45/100\n",
      "8000/8000 [==============================] - 3s - loss: 0.4020 - acc: 0.8354     \n",
      "Epoch 46/100\n",
      "8000/8000 [==============================] - 2s - loss: 0.4019 - acc: 0.8345     \n",
      "Epoch 47/100\n",
      "8000/8000 [==============================] - 2s - loss: 0.4017 - acc: 0.8345     \n",
      "Epoch 48/100\n",
      "8000/8000 [==============================] - 2s - loss: 0.4020 - acc: 0.8335     \n",
      "Epoch 49/100\n",
      "8000/8000 [==============================] - 3s - loss: 0.4018 - acc: 0.8361     \n",
      "Epoch 50/100\n",
      "8000/8000 [==============================] - 3s - loss: 0.4018 - acc: 0.8357     \n",
      "Epoch 51/100\n",
      "8000/8000 [==============================] - 3s - loss: 0.4017 - acc: 0.8360     \n",
      "Epoch 52/100\n",
      "8000/8000 [==============================] - 3s - loss: 0.4021 - acc: 0.8342     \n",
      "Epoch 53/100\n",
      "8000/8000 [==============================] - 2s - loss: 0.4015 - acc: 0.8330     \n",
      "Epoch 54/100\n",
      "8000/8000 [==============================] - 4s - loss: 0.4017 - acc: 0.8349     \n",
      "Epoch 55/100\n",
      "8000/8000 [==============================] - 3s - loss: 0.4018 - acc: 0.8346     \n",
      "Epoch 56/100\n",
      "8000/8000 [==============================] - 2s - loss: 0.4017 - acc: 0.8346     \n",
      "Epoch 57/100\n",
      "8000/8000 [==============================] - 2s - loss: 0.4018 - acc: 0.8347     \n",
      "Epoch 58/100\n",
      "8000/8000 [==============================] - 2s - loss: 0.4019 - acc: 0.8354     \n",
      "Epoch 59/100\n",
      "8000/8000 [==============================] - 3s - loss: 0.4010 - acc: 0.8364     \n",
      "Epoch 60/100\n",
      "8000/8000 [==============================] - 4s - loss: 0.4018 - acc: 0.8352     \n",
      "Epoch 61/100\n",
      "8000/8000 [==============================] - 3s - loss: 0.4013 - acc: 0.8356     \n",
      "Epoch 62/100\n",
      "8000/8000 [==============================] - 3s - loss: 0.4015 - acc: 0.8344     \n",
      "Epoch 63/100\n",
      "8000/8000 [==============================] - 3s - loss: 0.4017 - acc: 0.8349     \n",
      "Epoch 64/100\n",
      "8000/8000 [==============================] - 3s - loss: 0.4013 - acc: 0.8351     \n",
      "Epoch 65/100\n",
      "8000/8000 [==============================] - 2s - loss: 0.4014 - acc: 0.8342     \n",
      "Epoch 66/100\n",
      "8000/8000 [==============================] - 2s - loss: 0.4015 - acc: 0.8339     \n",
      "Epoch 67/100\n",
      "8000/8000 [==============================] - 3s - loss: 0.4013 - acc: 0.8344     \n",
      "Epoch 68/100\n",
      "8000/8000 [==============================] - 3s - loss: 0.4011 - acc: 0.8357     \n",
      "Epoch 69/100\n",
      "8000/8000 [==============================] - 3s - loss: 0.4010 - acc: 0.8364     \n",
      "Epoch 70/100\n",
      "8000/8000 [==============================] - 2s - loss: 0.4010 - acc: 0.8336     \n",
      "Epoch 71/100\n",
      "8000/8000 [==============================] - 2s - loss: 0.4010 - acc: 0.8362     \n",
      "Epoch 72/100\n",
      "8000/8000 [==============================] - 2s - loss: 0.4014 - acc: 0.8357     \n",
      "Epoch 73/100\n",
      "8000/8000 [==============================] - 2s - loss: 0.4013 - acc: 0.8362     \n",
      "Epoch 74/100\n",
      "8000/8000 [==============================] - 3s - loss: 0.4012 - acc: 0.8350     \n",
      "Epoch 75/100\n",
      "8000/8000 [==============================] - 2s - loss: 0.4014 - acc: 0.8366     \n",
      "Epoch 76/100\n",
      "8000/8000 [==============================] - 2s - loss: 0.4015 - acc: 0.8357     \n",
      "Epoch 77/100\n",
      "8000/8000 [==============================] - 2s - loss: 0.4011 - acc: 0.8339     \n",
      "Epoch 78/100\n",
      "8000/8000 [==============================] - 3s - loss: 0.4012 - acc: 0.8356     \n",
      "Epoch 79/100\n",
      "8000/8000 [==============================] - 4s - loss: 0.4014 - acc: 0.8349     \n",
      "Epoch 80/100\n",
      "8000/8000 [==============================] - 3s - loss: 0.4012 - acc: 0.8335     \n",
      "Epoch 81/100\n",
      "8000/8000 [==============================] - 2s - loss: 0.4014 - acc: 0.8354     \n",
      "Epoch 82/100\n",
      "8000/8000 [==============================] - 2s - loss: 0.4008 - acc: 0.8340     \n",
      "Epoch 83/100\n",
      "8000/8000 [==============================] - 3s - loss: 0.4011 - acc: 0.8350     \n",
      "Epoch 84/100\n",
      "8000/8000 [==============================] - 3s - loss: 0.4012 - acc: 0.8355     \n",
      "Epoch 85/100\n",
      "8000/8000 [==============================] - 3s - loss: 0.4010 - acc: 0.8352     \n",
      "Epoch 86/100\n",
      "8000/8000 [==============================] - 3s - loss: 0.4015 - acc: 0.8352     \n",
      "Epoch 87/100\n"
     ]
    },
    {
     "name": "stdout",
     "output_type": "stream",
     "text": [
      "8000/8000 [==============================] - 2s - loss: 0.4011 - acc: 0.8364     \n",
      "Epoch 88/100\n",
      "8000/8000 [==============================] - 2s - loss: 0.4011 - acc: 0.8360     \n",
      "Epoch 89/100\n",
      "8000/8000 [==============================] - 4s - loss: 0.4007 - acc: 0.8362     \n",
      "Epoch 90/100\n",
      "8000/8000 [==============================] - 3s - loss: 0.4010 - acc: 0.8362     \n",
      "Epoch 91/100\n",
      "8000/8000 [==============================] - 2s - loss: 0.4013 - acc: 0.8339     \n",
      "Epoch 92/100\n",
      "8000/8000 [==============================] - 2s - loss: 0.4005 - acc: 0.8336     \n",
      "Epoch 93/100\n",
      "8000/8000 [==============================] - 3s - loss: 0.4005 - acc: 0.8347     \n",
      "Epoch 94/100\n",
      "8000/8000 [==============================] - 3s - loss: 0.4001 - acc: 0.8341     \n",
      "Epoch 95/100\n",
      "8000/8000 [==============================] - 2s - loss: 0.3997 - acc: 0.8352     \n",
      "Epoch 96/100\n",
      "8000/8000 [==============================] - 3s - loss: 0.3996 - acc: 0.8351     \n",
      "Epoch 97/100\n",
      "8000/8000 [==============================] - 3s - loss: 0.3990 - acc: 0.8351     \n",
      "Epoch 98/100\n",
      "8000/8000 [==============================] - 3s - loss: 0.3987 - acc: 0.8366     \n",
      "Epoch 99/100\n",
      "8000/8000 [==============================] - 4s - loss: 0.3993 - acc: 0.8359     \n",
      "Epoch 100/100\n",
      "8000/8000 [==============================] - 3s - loss: 0.3985 - acc: 0.8342     \n"
     ]
    },
    {
     "data": {
      "text/plain": [
       "<keras.callbacks.History at 0x1e715115940>"
      ]
     },
     "execution_count": 13,
     "metadata": {},
     "output_type": "execute_result"
    }
   ],
   "source": [
    "classifier.fit(X_train, y_train, batch_size = 10, nb_epoch = 100)"
   ]
  },
  {
   "cell_type": "markdown",
   "metadata": {},
   "source": [
    "Predicting the Test set results"
   ]
  },
  {
   "cell_type": "code",
   "execution_count": 14,
   "metadata": {},
   "outputs": [
    {
     "data": {
      "text/plain": [
       "array([[False],\n",
       "       [False],\n",
       "       [False],\n",
       "       ..., \n",
       "       [False],\n",
       "       [False],\n",
       "       [False]], dtype=bool)"
      ]
     },
     "execution_count": 14,
     "metadata": {},
     "output_type": "execute_result"
    }
   ],
   "source": [
    "y_pred = classifier.predict(X_test)\n",
    "y_pred = (y_pred > 0.5)\n",
    "y_pred"
   ]
  },
  {
   "cell_type": "markdown",
   "metadata": {},
   "source": [
    "Making the Confusion Matrix"
   ]
  },
  {
   "cell_type": "code",
   "execution_count": 15,
   "metadata": {},
   "outputs": [
    {
     "data": {
      "text/plain": [
       "array([[1536,   59],\n",
       "       [ 252,  153]], dtype=int64)"
      ]
     },
     "execution_count": 15,
     "metadata": {},
     "output_type": "execute_result"
    }
   ],
   "source": [
    "from sklearn.metrics import confusion_matrix\n",
    "cm = confusion_matrix(y_test, y_pred)\n",
    "cm"
   ]
  },
  {
   "cell_type": "code",
   "execution_count": 18,
   "metadata": {},
   "outputs": [
    {
     "data": {
      "text/plain": [
       "0.8445"
      ]
     },
     "execution_count": 18,
     "metadata": {},
     "output_type": "execute_result"
    }
   ],
   "source": [
    "accuracy =(1536+153)/(252+59+1536+153)\n",
    "accuracy"
   ]
  },
  {
   "cell_type": "code",
   "execution_count": null,
   "metadata": {
    "collapsed": true
   },
   "outputs": [],
   "source": []
  }
 ],
 "metadata": {
  "kernelspec": {
   "display_name": "Python 3",
   "language": "python",
   "name": "python3"
  },
  "language_info": {
   "codemirror_mode": {
    "name": "ipython",
    "version": 3
   },
   "file_extension": ".py",
   "mimetype": "text/x-python",
   "name": "python",
   "nbconvert_exporter": "python",
   "pygments_lexer": "ipython3",
   "version": "3.5.4"
  }
 },
 "nbformat": 4,
 "nbformat_minor": 2
}
